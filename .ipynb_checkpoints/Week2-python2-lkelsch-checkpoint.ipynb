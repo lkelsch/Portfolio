{
 "cells": [
  {
   "cell_type": "code",
   "execution_count": 22,
   "metadata": {},
   "outputs": [],
   "source": [
    "import numpy as np\n",
    "import pandas as pd\n",
    "import scipy as sp"
   ]
  },
  {
   "cell_type": "code",
   "execution_count": 23,
   "metadata": {},
   "outputs": [],
   "source": [
    "%matplotlib inline\n",
    "import matplotlib.pyplot as plt\n",
    "plt.style.use('ggplot')"
   ]
  },
  {
   "cell_type": "code",
   "execution_count": 24,
   "metadata": {},
   "outputs": [
    {
     "name": "stdout",
     "output_type": "stream",
     "text": [
      "Overwriting hw_data.csv\n"
     ]
    }
   ],
   "source": [
    "%%file hw_data.csv\n",
    "id,sex,weight,height\n",
    "1,M,190,77\n",
    "2,F,120,70\n",
    "3,F,110,68\n",
    "4,M,150,72\n",
    "5,O,120,66\n",
    "6,M,120,60\n",
    "7,F,140,70"
   ]
  },
  {
   "cell_type": "markdown",
   "metadata": {},
   "source": [
    "# Python"
   ]
  },
  {
   "cell_type": "markdown",
   "metadata": {},
   "source": [
    "## 1. Finish creating the following function that takes a list and returns the average value.\n",
    "\n",
    "Add each element in the list to `total` and return `total`\n",
    "\n",
    "### DO NOT use a library function nor `sum()`"
   ]
  },
  {
   "cell_type": "code",
   "execution_count": 25,
   "metadata": {},
   "outputs": [
    {
     "data": {
      "text/plain": [
       "3.375"
      ]
     },
     "execution_count": 25,
     "metadata": {},
     "output_type": "execute_result"
    }
   ],
   "source": [
    "def average(my_list):\n",
    "    total = 0\n",
    "    for item in my_list:\n",
    "        #do something with item!\n",
    "        total = total + item\n",
    "    return total/len(my_list)\n",
    "\n",
    "average([1,2,1,4,3,2,5,9])"
   ]
  },
  {
   "cell_type": "markdown",
   "metadata": {},
   "source": [
    "## 2. Using a Dictionary keep track of the count of numbers (or items) from a list"
   ]
  },
  {
   "cell_type": "code",
   "execution_count": 26,
   "metadata": {},
   "outputs": [
    {
     "data": {
      "text/plain": [
       "{1: 2, 2: 2, 4: 1, 3: 1, 5: 1, 9: 1}"
      ]
     },
     "execution_count": 26,
     "metadata": {},
     "output_type": "execute_result"
    }
   ],
   "source": [
    "def counts(my_list):\n",
    "    counts = dict()\n",
    "    for item in my_list:\n",
    "        #do something with item!\n",
    "        counts[item] = counts.get(item, 0) + 1\n",
    "        \n",
    "    return counts\n",
    "\n",
    "counts([1,2,1,4,3,2,5,9])    "
   ]
  },
  {
   "cell_type": "markdown",
   "metadata": {},
   "source": [
    "## 3.  Using the `counts()` function you created above and the `.split()` function, return a dictionary of most occuring words from the following paragraph. Bonus, remove punctuation from words."
   ]
  },
  {
   "cell_type": "code",
   "execution_count": 27,
   "metadata": {},
   "outputs": [
    {
     "data": {
      "text/plain": [
       "[('the', 32),\n",
       " ('and', 17),\n",
       " ('a', 15),\n",
       " ('to', 15),\n",
       " ('in', 9),\n",
       " ('of', 9),\n",
       " ('was', 8),\n",
       " ('she', 6),\n",
       " ('at', 6),\n",
       " ('his', 6),\n",
       " ('door', 6),\n",
       " ('you', 6),\n",
       " ('out', 5),\n",
       " ('he', 5),\n",
       " ('Alice', 5),\n",
       " ('had', 4),\n",
       " ('as', 4),\n",
       " ('this', 4),\n",
       " ('on', 4),\n",
       " ('I', 4),\n",
       " ('For', 3),\n",
       " ('footman', 3),\n",
       " ('livery', 3),\n",
       " ('him', 3),\n",
       " ('because', 3),\n",
       " ('by', 3),\n",
       " ('large', 3),\n",
       " ('that', 3),\n",
       " ('all', 3),\n",
       " ('their', 3),\n",
       " ('it', 3),\n",
       " ('for', 3),\n",
       " ('into', 3),\n",
       " ('up', 3),\n",
       " ('said', 3),\n",
       " ('Footman', 3),\n",
       " ('if', 3),\n",
       " ('might', 3),\n",
       " ('or', 2),\n",
       " ('two', 2),\n",
       " ('looking', 2),\n",
       " ('house', 2),\n",
       " ('what', 2),\n",
       " ('next', 2),\n",
       " ('when', 2),\n",
       " ('came', 2),\n",
       " ('be', 2),\n",
       " ('face', 2),\n",
       " ('only', 2),\n",
       " ('with', 2),\n",
       " ('opened', 2),\n",
       " ('eyes', 2),\n",
       " ('both', 2),\n",
       " ('over', 2),\n",
       " ('very', 2),\n",
       " ('know', 2),\n",
       " ('little', 2),\n",
       " ('wood', 2),\n",
       " ('The', 2),\n",
       " ('FishFootman', 2),\n",
       " ('from', 2),\n",
       " ('great', 2),\n",
       " ('nearly', 2),\n",
       " ('other', 2),\n",
       " ('solemn', 2),\n",
       " ('tone', 2),\n",
       " ('Duchess', 2),\n",
       " ('An', 2),\n",
       " ('invitation', 2),\n",
       " ('Queen', 2),\n",
       " ('play', 2),\n",
       " ('croquet', 2),\n",
       " ('repeated', 2),\n",
       " ('same', 2),\n",
       " ('so', 2),\n",
       " ('her', 2),\n",
       " ('sky', 2),\n",
       " ('went', 2),\n",
       " ('no', 2),\n",
       " ('knocking', 2),\n",
       " ('are', 2),\n",
       " ('noise', 2),\n",
       " ('inside', 2),\n",
       " ('one', 2),\n",
       " ('could', 2),\n",
       " ('then', 2),\n",
       " ('pieces', 2),\n",
       " ('am', 2),\n",
       " ('get', 2),\n",
       " ('But', 2),\n",
       " ('head', 2),\n",
       " ('minute', 1),\n",
       " ('stood', 1),\n",
       " ('wondering', 1),\n",
       " ('do', 1),\n",
       " ('suddenly', 1),\n",
       " ('running', 1),\n",
       " ('woodshe', 1),\n",
       " ('considered', 1),\n",
       " ('otherwise', 1),\n",
       " ('judging', 1),\n",
       " ('would', 1),\n",
       " ('have', 1),\n",
       " ('called', 1),\n",
       " ('fishand', 1),\n",
       " ('rapped', 1),\n",
       " ('loudly', 1),\n",
       " ('knuckles', 1),\n",
       " ('It', 1),\n",
       " ('another', 1),\n",
       " ('round', 1),\n",
       " ('like', 1),\n",
       " ('frog', 1),\n",
       " ('footmen', 1),\n",
       " ('noticed', 1),\n",
       " ('powdered', 1),\n",
       " ('hair', 1),\n",
       " ('curled', 1),\n",
       " ('heads', 1),\n",
       " ('She', 1),\n",
       " ('felt', 1),\n",
       " ('curious', 1),\n",
       " ('about', 1),\n",
       " ('crept', 1),\n",
       " ('way', 1),\n",
       " ('listen', 1),\n",
       " ('began', 1),\n",
       " ('producing', 1),\n",
       " ('under', 1),\n",
       " ('arm', 1),\n",
       " ('letter', 1),\n",
       " ('himself', 1),\n",
       " ('handed', 1),\n",
       " ('saying', 1),\n",
       " ('FrogFootman', 1),\n",
       " ('changing', 1),\n",
       " ('order', 1),\n",
       " ('words', 1),\n",
       " ('From', 1),\n",
       " ('Then', 1),\n",
       " ('they', 1),\n",
       " ('bowed', 1),\n",
       " ('low', 1),\n",
       " ('curls', 1),\n",
       " ('got', 1),\n",
       " ('entangled', 1),\n",
       " ('together', 1),\n",
       " ('laughed', 1),\n",
       " ('much', 1),\n",
       " ('run', 1),\n",
       " ('back', 1),\n",
       " ('fear', 1),\n",
       " ('hearing', 1),\n",
       " ('peeped', 1),\n",
       " ('gone', 1),\n",
       " ('sitting', 1),\n",
       " ('ground', 1),\n",
       " ('near', 1),\n",
       " ('staring', 1),\n",
       " ('stupidly', 1),\n",
       " ('timidly', 1),\n",
       " ('knocked', 1),\n",
       " ('Theres', 1),\n",
       " ('sort', 1),\n",
       " ('use', 1),\n",
       " ('reasons', 1),\n",
       " ('First', 1),\n",
       " ('Im', 1),\n",
       " ('side', 1),\n",
       " ('secondly', 1),\n",
       " ('theyre', 1),\n",
       " ('making', 1),\n",
       " ('such', 1),\n",
       " ('possibly', 1),\n",
       " ('hear', 1),\n",
       " ('And', 1),\n",
       " ('certainly', 1),\n",
       " ('there', 1),\n",
       " ('most', 1),\n",
       " ('extraordinary', 1),\n",
       " ('going', 1),\n",
       " ('withina', 1),\n",
       " ('constant', 1),\n",
       " ('howling', 1),\n",
       " ('sneezing', 1),\n",
       " ('every', 1),\n",
       " ('now', 1),\n",
       " ('crash', 1),\n",
       " ('dish', 1),\n",
       " ('kettle', 1),\n",
       " ('been', 1),\n",
       " ('broken', 1),\n",
       " ('Please', 1),\n",
       " ('how', 1),\n",
       " ('There', 1),\n",
       " ('some', 1),\n",
       " ('sense', 1),\n",
       " ('your', 1),\n",
       " ('without', 1),\n",
       " ('attending', 1),\n",
       " ('we', 1),\n",
       " ('between', 1),\n",
       " ('us', 1),\n",
       " ('instance', 1),\n",
       " ('were', 1),\n",
       " ('knock', 1),\n",
       " ('let', 1),\n",
       " ('He', 1),\n",
       " ('time', 1),\n",
       " ('speaking', 1),\n",
       " ('thought', 1),\n",
       " ('decidedly', 1),\n",
       " ('uncivil', 1),\n",
       " ('perhaps', 1),\n",
       " ('cant', 1),\n",
       " ('help', 1),\n",
       " ('herself', 1),\n",
       " ('top', 1),\n",
       " ('any', 1),\n",
       " ('rate', 1),\n",
       " ('answer', 1),\n",
       " ('questionsHow', 1),\n",
       " ('aloud', 1),\n",
       " ('shall', 1),\n",
       " ('sit', 1),\n",
       " ('here', 1),\n",
       " ('remarked', 1),\n",
       " ('till', 1),\n",
       " ('tomorrow', 1),\n",
       " ('At', 1),\n",
       " ('moment', 1),\n",
       " ('plate', 1),\n",
       " ('skimming', 1),\n",
       " ('straight', 1),\n",
       " ('Footmans', 1),\n",
       " ('just', 1),\n",
       " ('grazed', 1),\n",
       " ('nose', 1),\n",
       " ('broke', 1),\n",
       " ('against', 1),\n",
       " ('trees', 1),\n",
       " ('behind', 1)]"
      ]
     },
     "execution_count": 27,
     "metadata": {},
     "output_type": "execute_result"
    }
   ],
   "source": [
    "import string\n",
    "import re\n",
    "\n",
    "paragraph_text = '''\n",
    "For a minute or two she stood looking at the house, and wondering what to do next, when suddenly a footman in livery came running out of the wood—(she considered him to be a footman because he was in livery: otherwise, judging by his face only, she would have called him a fish)—and rapped loudly at the door with his knuckles. It was opened by another footman in livery, with a round face, and large eyes like a frog; and both footmen, Alice noticed, had powdered hair that curled all over their heads. She felt very curious to know what it was all about, and crept a little way out of the wood to listen.\n",
    "The Fish-Footman began by producing from under his arm a great letter, nearly as large as himself, and this he handed over to the other, saying, in a solemn tone, ‘For the Duchess. An invitation from the Queen to play croquet.’ The Frog-Footman repeated, in the same solemn tone, only changing the order of the words a little, ‘From the Queen. An invitation for the Duchess to play croquet.’\n",
    "Then they both bowed low, and their curls got entangled together.\n",
    "Alice laughed so much at this, that she had to run back into the wood for fear of their hearing her; and when she next peeped out the Fish-Footman was gone, and the other was sitting on the ground near the door, staring stupidly up into the sky.\n",
    "Alice went timidly up to the door, and knocked.\n",
    "‘There’s no sort of use in knocking,’ said the Footman, ‘and that for two reasons. First, because I’m on the same side of the door as you are; secondly, because they’re making such a noise inside, no one could possibly hear you.’ And certainly there was a most extraordinary noise going on within—a constant howling and sneezing, and every now and then a great crash, as if a dish or kettle had been broken to pieces.\n",
    "‘Please, then,’ said Alice, ‘how am I to get in?’\n",
    "‘There might be some sense in your knocking,’ the Footman went on without attending to her, ‘if we had the door between us. For instance, if you were inside, you might knock, and I could let you out, you know.’ He was looking up into the sky all the time he was speaking, and this Alice thought decidedly uncivil. ‘But perhaps he can’t help it,’ she said to herself; ‘his eyes are so very nearly at the top of his head. But at any rate he might answer questions.—How am I to get in?’ she repeated, aloud.\n",
    "‘I shall sit here,’ the Footman remarked, ‘till tomorrow—’\n",
    "At this moment the door of the house opened, and a large plate came skimming out, straight at the Footman’s head: it just grazed his nose, and broke to pieces against one of the trees behind him.'''\n",
    "\n",
    "spl_list = re.sub('[^a-zA-Z0-9 \\n\\.]', '', paragraph_text)\n",
    "\n",
    "list2 = spl_list.split()\n",
    "\n",
    "list3 = [''.join(symbol for symbol in word\n",
    "               if symbol not in string.punctuation)\n",
    "               for word in list2]\n",
    "new_list = counts(list3)\n",
    "\n",
    "sorted(new_list.items(), key=lambda x: x[1], reverse=True)\n"
   ]
  },
  {
   "cell_type": "markdown",
   "metadata": {},
   "source": [
    "## 4. Read in a file using `open()` and iterated through the file line-by-line write each line from the file to a new file in a  `title()`-ized. Create your own file for input\n",
    "\n",
    "`This is the first line` ->  `This Is The First Line`\n",
    "\n",
    "Hint: There's a function to do this"
   ]
  },
  {
   "cell_type": "code",
   "execution_count": 28,
   "metadata": {},
   "outputs": [],
   "source": [
    "import string \n",
    "\n",
    "testbook = open(\"testbook.txt\")\n",
    "\n",
    "\n",
    "with testbook as file:\n",
    "    for i, line in enumerate(file):\n",
    "        l = line.title()\n",
    "        with open(f\"{i+1}.txt\", \"w\") as g:\n",
    "            g.write(l)"
   ]
  },
  {
   "cell_type": "markdown",
   "metadata": {},
   "source": [
    "# Numpy"
   ]
  },
  {
   "cell_type": "markdown",
   "metadata": {},
   "source": [
    "## 1. Given a list, find the average using a numpy function. "
   ]
  },
  {
   "cell_type": "code",
   "execution_count": 29,
   "metadata": {},
   "outputs": [
    {
     "data": {
      "text/plain": [
       "3.375"
      ]
     },
     "execution_count": 29,
     "metadata": {},
     "output_type": "execute_result"
    }
   ],
   "source": [
    "simple_list = [1,2,1,4,3,2,5,9]\n",
    "\n",
    "np.average(simple_list)"
   ]
  },
  {
   "cell_type": "markdown",
   "metadata": {},
   "source": [
    "## 2. Given two lists of Heights and Weights of individual, calculate the BMI of those individuals, without writing a `for-loop`"
   ]
  },
  {
   "cell_type": "code",
   "execution_count": 30,
   "metadata": {},
   "outputs": [
    {
     "data": {
      "text/plain": [
       "array([0.00290659, 0.00277323, 0.00307394, 0.00241633, 0.00263329])"
      ]
     },
     "execution_count": 30,
     "metadata": {},
     "output_type": "execute_result"
    }
   ],
   "source": [
    "heights = [174, 173, 173, 175, 171]\n",
    "weights = [88, 83, 92, 74, 77]\n",
    "\n",
    "nump_hgt = np.array(heights)\n",
    "nump_wgt = np.array(weights)\n",
    "\n",
    "bmi = nump_wgt / nump_hgt ** 2\n",
    "bmi"
   ]
  },
  {
   "cell_type": "markdown",
   "metadata": {},
   "source": [
    "## 3. Create an array of length 20 filled with random values (between 0 to 1) "
   ]
  },
  {
   "cell_type": "code",
   "execution_count": 31,
   "metadata": {},
   "outputs": [
    {
     "data": {
      "text/plain": [
       "array([[0.01022136, 0.63558757, 0.82809436, 0.24983705],\n",
       "       [0.79772844, 0.15132596, 0.76832689, 0.92088943],\n",
       "       [0.36234852, 0.04932666, 0.58555724, 0.62421671],\n",
       "       [0.96651885, 0.1216302 , 0.02036183, 0.95279669],\n",
       "       [0.05400329, 0.52408098, 0.90755061, 0.11113103]])"
      ]
     },
     "execution_count": 31,
     "metadata": {},
     "output_type": "execute_result"
    }
   ],
   "source": [
    "np.random.rand(5,4)"
   ]
  },
  {
   "cell_type": "markdown",
   "metadata": {},
   "source": [
    "## 4. Create an array with at least 1000 random numbers from normal distributions (normal). Then, plot a histogram of these values (`plt.hist`)."
   ]
  },
  {
   "cell_type": "code",
   "execution_count": 32,
   "metadata": {},
   "outputs": [
    {
     "data": {
      "text/plain": [
       "(array([[ 0.,  1.,  4., 19., 29., 24., 15.,  7.,  1.,  0.],\n",
       "        [ 0.,  0.,  4., 20., 23., 33., 14.,  6.,  0.,  0.],\n",
       "        [ 1.,  0.,  6.,  9., 29., 29., 16.,  8.,  1.,  1.],\n",
       "        [ 0.,  3.,  6., 17., 29., 25., 15.,  4.,  0.,  1.],\n",
       "        [ 0.,  0.,  9., 23., 24., 19., 20.,  4.,  1.,  0.],\n",
       "        [ 0.,  2.,  6., 10., 31., 27., 20.,  3.,  1.,  0.],\n",
       "        [ 0.,  2.,  6.,  7., 33., 30., 15.,  7.,  0.,  0.],\n",
       "        [ 0.,  1.,  5., 16., 32., 21., 15.,  7.,  3.,  0.],\n",
       "        [ 0.,  1.,  4., 12., 34., 23., 16.,  9.,  1.,  0.],\n",
       "        [ 0.,  2.,  4.,  9., 24., 33., 17.,  9.,  2.,  0.],\n",
       "        [ 0.,  0.,  7., 20., 25., 25., 14.,  8.,  1.,  0.],\n",
       "        [ 0.,  2.,  3., 15., 28., 28., 14.,  5.,  5.,  0.],\n",
       "        [ 0.,  0.,  6., 11., 30., 30., 20.,  2.,  1.,  0.],\n",
       "        [ 0.,  2.,  2., 15., 28., 22., 24.,  6.,  1.,  0.],\n",
       "        [ 0.,  0., 10., 20., 28., 17., 14.,  7.,  3.,  1.],\n",
       "        [ 0.,  1.,  4., 14., 29., 23., 25.,  4.,  0.,  0.],\n",
       "        [ 1.,  0.,  9., 19., 26., 24., 10., 10.,  1.,  0.],\n",
       "        [ 0.,  1.,  6., 17., 27., 23., 22.,  3.,  1.,  0.],\n",
       "        [ 0.,  0.,  5., 20., 33., 19., 15.,  7.,  1.,  0.],\n",
       "        [ 0.,  0.,  5., 16., 21., 33., 17.,  5.,  3.,  0.],\n",
       "        [ 0.,  0.,  9., 13., 22., 35., 14.,  6.,  1.,  0.],\n",
       "        [ 0.,  4.,  8., 22., 23., 25., 15.,  2.,  1.,  0.],\n",
       "        [ 0.,  0.,  3., 17., 31., 18., 24.,  6.,  1.,  0.],\n",
       "        [ 0.,  2.,  6., 20., 27., 29., 13.,  2.,  1.,  0.],\n",
       "        [ 0.,  0.,  6., 18., 35., 21., 15.,  5.,  0.,  0.],\n",
       "        [ 0.,  2.,  3., 16., 21., 30., 20.,  6.,  2.,  0.],\n",
       "        [ 0.,  0.,  5., 16., 30., 27., 16.,  5.,  1.,  0.],\n",
       "        [ 0.,  3.,  6., 17., 34., 18., 16.,  5.,  1.,  0.],\n",
       "        [ 0.,  1.,  8., 14., 22., 27., 22.,  6.,  0.,  0.],\n",
       "        [ 0.,  2.,  2., 15., 38., 25., 10.,  8.,  0.,  0.],\n",
       "        [ 0.,  0.,  5., 11., 32., 27., 15.,  7.,  3.,  0.],\n",
       "        [ 0.,  1.,  4., 16., 29., 18., 19., 11.,  2.,  0.],\n",
       "        [ 1.,  1.,  7.,  7., 22., 31., 20., 10.,  1.,  0.],\n",
       "        [ 0.,  2.,  5., 16., 29., 30.,  9.,  7.,  2.,  0.],\n",
       "        [ 0.,  4.,  4., 12., 37., 21., 13.,  6.,  3.,  0.],\n",
       "        [ 0.,  2.,  7., 17., 26., 27., 15.,  5.,  1.,  0.],\n",
       "        [ 0.,  0.,  3., 14., 36., 20., 17.,  8.,  2.,  0.],\n",
       "        [ 0.,  3.,  3., 14., 30., 21., 16.,  9.,  4.,  0.],\n",
       "        [ 0.,  1.,  2., 14., 28., 31., 17.,  7.,  0.,  0.],\n",
       "        [ 0.,  3., 10., 16., 22., 15., 24.,  8.,  2.,  0.],\n",
       "        [ 0.,  2.,  6., 11., 32., 23., 18.,  6.,  2.,  0.],\n",
       "        [ 0.,  1.,  4., 11., 33., 28., 16.,  7.,  0.,  0.],\n",
       "        [ 0.,  1.,  5., 14., 32., 27., 15.,  4.,  2.,  0.],\n",
       "        [ 0.,  0.,  3., 21., 20., 34., 18.,  3.,  1.,  0.],\n",
       "        [ 0.,  0.,  9., 14., 36., 25., 12.,  4.,  0.,  0.],\n",
       "        [ 1.,  1.,  4., 12., 25., 25., 20., 11.,  1.,  0.],\n",
       "        [ 0.,  2.,  4., 10., 30., 28., 19.,  5.,  1.,  1.],\n",
       "        [ 1.,  1.,  9.,  6., 39., 23., 13.,  6.,  2.,  0.],\n",
       "        [ 0.,  2.,  6., 19., 28., 23., 12.,  9.,  1.,  0.],\n",
       "        [ 0.,  1.,  4., 16., 31., 28., 14.,  6.,  0.,  0.],\n",
       "        [ 0.,  1., 10., 12., 26., 24., 17.,  7.,  2.,  1.],\n",
       "        [ 0.,  1.,  4., 18., 29., 29., 16.,  1.,  1.,  1.],\n",
       "        [ 0.,  3.,  5., 15., 31., 26., 14.,  5.,  1.,  0.],\n",
       "        [ 0.,  1.,  8., 18., 22., 25., 14.,  8.,  4.,  0.],\n",
       "        [ 0.,  2.,  8., 21., 24., 24., 13.,  8.,  0.,  0.],\n",
       "        [ 0.,  1.,  8., 11., 37., 21., 14.,  7.,  1.,  0.],\n",
       "        [ 0.,  2.,  5., 12., 33., 24., 19.,  3.,  2.,  0.],\n",
       "        [ 1.,  1.,  8., 14., 29., 25., 11.,  8.,  1.,  2.],\n",
       "        [ 0.,  3.,  3., 17., 22., 30., 17.,  7.,  1.,  0.],\n",
       "        [ 1.,  2.,  5., 13., 27., 25., 16., 11.,  0.,  0.],\n",
       "        [ 1.,  3.,  4., 13., 23., 37., 14.,  3.,  2.,  0.],\n",
       "        [ 0.,  3.,  5., 13., 27., 24., 19.,  5.,  3.,  1.],\n",
       "        [ 0.,  1.,  2., 16., 28., 28., 18.,  7.,  0.,  0.],\n",
       "        [ 0.,  3.,  6., 15., 28., 28., 15.,  4.,  1.,  0.],\n",
       "        [ 0.,  3.,  5., 14., 27., 27., 19.,  5.,  0.,  0.],\n",
       "        [ 0.,  1.,  4., 12., 27., 23., 18.,  9.,  5.,  1.],\n",
       "        [ 0.,  2.,  3., 19., 34., 21., 17.,  4.,  0.,  0.],\n",
       "        [ 0.,  2.,  7., 17., 22., 31., 13.,  7.,  1.,  0.],\n",
       "        [ 0.,  3.,  5., 14., 37., 21., 13.,  4.,  3.,  0.],\n",
       "        [ 0.,  1.,  4., 14., 34., 21., 21.,  5.,  0.,  0.],\n",
       "        [ 1.,  1.,  7.,  5., 32., 35., 14.,  3.,  2.,  0.],\n",
       "        [ 1.,  0., 10., 17., 25., 23., 14.,  6.,  4.,  0.],\n",
       "        [ 1.,  2.,  6., 16., 28., 25., 17.,  3.,  2.,  0.],\n",
       "        [ 0.,  1.,  8., 16., 27., 28., 18.,  2.,  0.,  0.],\n",
       "        [ 0.,  0., 10., 17., 22., 22., 22.,  4.,  2.,  1.],\n",
       "        [ 0.,  0.,  4., 15., 20., 35., 17.,  8.,  1.,  0.],\n",
       "        [ 0.,  0.,  3., 23., 23., 22., 23.,  5.,  0.,  1.],\n",
       "        [ 1.,  3.,  5., 23., 19., 31.,  9.,  7.,  2.,  0.],\n",
       "        [ 0.,  0.,  3., 16., 29., 29., 16.,  4.,  3.,  0.],\n",
       "        [ 0.,  0.,  9., 15., 25., 30., 13.,  6.,  2.,  0.],\n",
       "        [ 0.,  1.,  6., 14., 24., 31., 19.,  4.,  1.,  0.],\n",
       "        [ 0.,  4.,  5., 11., 23., 22., 18., 14.,  3.,  0.],\n",
       "        [ 0.,  0.,  6., 13., 36., 18., 18.,  6.,  2.,  1.],\n",
       "        [ 0.,  1.,  8., 13., 18., 24., 22., 10.,  4.,  0.],\n",
       "        [ 0.,  0.,  4., 15., 26., 21., 19., 13.,  1.,  1.],\n",
       "        [ 1.,  0.,  7., 16., 19., 24., 22.,  7.,  4.,  0.],\n",
       "        [ 0.,  0.,  5., 11., 26., 31., 21.,  4.,  1.,  1.],\n",
       "        [ 0.,  0.,  6., 21., 21., 33., 13.,  4.,  2.,  0.],\n",
       "        [ 1.,  1.,  4., 12., 25., 29., 17., 10.,  1.,  0.],\n",
       "        [ 0.,  2.,  5., 13., 21., 30., 20.,  7.,  2.,  0.],\n",
       "        [ 0.,  2.,  7., 16., 27., 26., 14.,  6.,  2.,  0.],\n",
       "        [ 0.,  0.,  9., 12., 32., 24., 13.,  9.,  0.,  1.],\n",
       "        [ 0.,  2.,  6., 13., 30., 29., 14.,  6.,  0.,  0.],\n",
       "        [ 0.,  2.,  6., 21., 21., 26., 18.,  5.,  1.,  0.],\n",
       "        [ 0.,  1.,  6., 22., 24., 25., 18.,  4.,  0.,  0.],\n",
       "        [ 1.,  3.,  5., 12., 37., 22.,  9.,  9.,  2.,  0.],\n",
       "        [ 0.,  1.,  4., 22., 20., 29., 18.,  5.,  1.,  0.],\n",
       "        [ 0.,  0.,  5., 12., 30., 34., 14.,  2.,  2.,  1.],\n",
       "        [ 0.,  3.,  2., 13., 25., 33., 16.,  6.,  2.,  0.],\n",
       "        [ 1.,  0.,  8., 12., 28., 29., 16.,  6.,  0.,  0.]]),\n",
       " array([-3.67642073, -2.94538414, -2.21434756, -1.48331097, -0.75227439,\n",
       "        -0.02123781,  0.70979878,  1.44083536,  2.17187194,  2.90290853,\n",
       "         3.63394511]),\n",
       " <a list of 100 BarContainer objects>)"
      ]
     },
     "execution_count": 32,
     "metadata": {},
     "output_type": "execute_result"
    },
    {
     "data": {
      "image/png": "[encoded data removed]",
      "text/plain": [
       "<Figure size 640x480 with 1 Axes>"
      ]
     },
     "metadata": {},
     "output_type": "display_data"
    }
   ],
   "source": [
    "normal = np.random.randn(100, 100)\n",
    "#normal.shape\n",
    "\n",
    "plt.hist(normal)"
   ]
  },
  {
   "cell_type": "markdown",
   "metadata": {},
   "source": [
    "# Pandas"
   ]
  },
  {
   "cell_type": "markdown",
   "metadata": {},
   "source": [
    "## 1. Read in a CSV () and display all the columns and their respective data types "
   ]
  },
  {
   "cell_type": "code",
   "execution_count": 33,
   "metadata": {},
   "outputs": [
    {
     "data": {
      "text/plain": [
       "Index(['id', 'sex', 'weight', 'height'], dtype='object')"
      ]
     },
     "execution_count": 33,
     "metadata": {},
     "output_type": "execute_result"
    }
   ],
   "source": [
    "df = pd.read_csv(\"hw_data.csv\")\n",
    "\n",
    "df.columns"
   ]
  },
  {
   "cell_type": "markdown",
   "metadata": {},
   "source": [
    "## 2. Find the average weight "
   ]
  },
  {
   "cell_type": "code",
   "execution_count": 34,
   "metadata": {},
   "outputs": [
    {
     "data": {
      "text/plain": [
       "135.71428571428572"
      ]
     },
     "execution_count": 34,
     "metadata": {},
     "output_type": "execute_result"
    }
   ],
   "source": [
    "df['weight'].mean()"
   ]
  },
  {
   "cell_type": "markdown",
   "metadata": {},
   "source": [
    "## 3. Find the Value Counts on column `sex` "
   ]
  },
  {
   "cell_type": "code",
   "execution_count": 35,
   "metadata": {},
   "outputs": [
    {
     "data": {
      "text/html": [
       "<div>\n",
       "<style scoped>\n",
       "    .dataframe tbody tr th:only-of-type {\n",
       "        vertical-align: middle;\n",
       "    }\n",
       "\n",
       "    .dataframe tbody tr th {\n",
       "        vertical-align: top;\n",
       "    }\n",
       "\n",
       "    .dataframe thead th {\n",
       "        text-align: right;\n",
       "    }\n",
       "</style>\n",
       "<table border=\"1\" class=\"dataframe\">\n",
       "  <thead>\n",
       "    <tr style=\"text-align: right;\">\n",
       "      <th></th>\n",
       "      <th>id</th>\n",
       "    </tr>\n",
       "    <tr>\n",
       "      <th>sex</th>\n",
       "      <th></th>\n",
       "    </tr>\n",
       "  </thead>\n",
       "  <tbody>\n",
       "    <tr>\n",
       "      <th>F</th>\n",
       "      <td>3</td>\n",
       "    </tr>\n",
       "    <tr>\n",
       "      <th>M</th>\n",
       "      <td>3</td>\n",
       "    </tr>\n",
       "    <tr>\n",
       "      <th>O</th>\n",
       "      <td>1</td>\n",
       "    </tr>\n",
       "  </tbody>\n",
       "</table>\n",
       "</div>"
      ],
      "text/plain": [
       "     id\n",
       "sex    \n",
       "F     3\n",
       "M     3\n",
       "O     1"
      ]
     },
     "execution_count": 35,
     "metadata": {},
     "output_type": "execute_result"
    }
   ],
   "source": [
    "\n",
    "df1 = df.iloc[ : ,0:2]\n",
    "df1.groupby('sex').count()\n"
   ]
  },
  {
   "cell_type": "markdown",
   "metadata": {},
   "source": [
    "## 4. Plot Height vs. Weight "
   ]
  },
  {
   "cell_type": "code",
   "execution_count": 36,
   "metadata": {},
   "outputs": [
    {
     "data": {
      "text/plain": [
       "<Axes: xlabel='height', ylabel='weight'>"
      ]
     },
     "execution_count": 36,
     "metadata": {},
     "output_type": "execute_result"
    },
    {
     "data": {
      "image/png": "[encoded data removed]",
      "text/plain": [
       "<Figure size 640x480 with 1 Axes>"
      ]
     },
     "metadata": {},
     "output_type": "display_data"
    }
   ],
   "source": [
    "df.plot(kind='scatter', x='height', y='weight', color='Green')"
   ]
  },
  {
   "cell_type": "markdown",
   "metadata": {},
   "source": [
    "## 5. Calculate BMI and save as a new column"
   ]
  },
  {
   "cell_type": "code",
   "execution_count": 37,
   "metadata": {},
   "outputs": [
    {
     "data": {
      "text/html": [
       "<div>\n",
       "<style scoped>\n",
       "    .dataframe tbody tr th:only-of-type {\n",
       "        vertical-align: middle;\n",
       "    }\n",
       "\n",
       "    .dataframe tbody tr th {\n",
       "        vertical-align: top;\n",
       "    }\n",
       "\n",
       "    .dataframe thead th {\n",
       "        text-align: right;\n",
       "    }\n",
       "</style>\n",
       "<table border=\"1\" class=\"dataframe\">\n",
       "  <thead>\n",
       "    <tr style=\"text-align: right;\">\n",
       "      <th></th>\n",
       "      <th>id</th>\n",
       "      <th>sex</th>\n",
       "      <th>weight</th>\n",
       "      <th>height</th>\n",
       "      <th>BMI</th>\n",
       "    </tr>\n",
       "  </thead>\n",
       "  <tbody>\n",
       "    <tr>\n",
       "      <th>0</th>\n",
       "      <td>1</td>\n",
       "      <td>M</td>\n",
       "      <td>190</td>\n",
       "      <td>77</td>\n",
       "      <td>0.032046</td>\n",
       "    </tr>\n",
       "    <tr>\n",
       "      <th>1</th>\n",
       "      <td>2</td>\n",
       "      <td>F</td>\n",
       "      <td>120</td>\n",
       "      <td>70</td>\n",
       "      <td>0.024490</td>\n",
       "    </tr>\n",
       "    <tr>\n",
       "      <th>2</th>\n",
       "      <td>3</td>\n",
       "      <td>F</td>\n",
       "      <td>110</td>\n",
       "      <td>68</td>\n",
       "      <td>0.023789</td>\n",
       "    </tr>\n",
       "    <tr>\n",
       "      <th>3</th>\n",
       "      <td>4</td>\n",
       "      <td>M</td>\n",
       "      <td>150</td>\n",
       "      <td>72</td>\n",
       "      <td>0.028935</td>\n",
       "    </tr>\n",
       "    <tr>\n",
       "      <th>4</th>\n",
       "      <td>5</td>\n",
       "      <td>O</td>\n",
       "      <td>120</td>\n",
       "      <td>66</td>\n",
       "      <td>0.027548</td>\n",
       "    </tr>\n",
       "    <tr>\n",
       "      <th>5</th>\n",
       "      <td>6</td>\n",
       "      <td>M</td>\n",
       "      <td>120</td>\n",
       "      <td>60</td>\n",
       "      <td>0.033333</td>\n",
       "    </tr>\n",
       "    <tr>\n",
       "      <th>6</th>\n",
       "      <td>7</td>\n",
       "      <td>F</td>\n",
       "      <td>140</td>\n",
       "      <td>70</td>\n",
       "      <td>0.028571</td>\n",
       "    </tr>\n",
       "  </tbody>\n",
       "</table>\n",
       "</div>"
      ],
      "text/plain": [
       "   id sex  weight  height       BMI\n",
       "0   1   M     190      77  0.032046\n",
       "1   2   F     120      70  0.024490\n",
       "2   3   F     110      68  0.023789\n",
       "3   4   M     150      72  0.028935\n",
       "4   5   O     120      66  0.027548\n",
       "5   6   M     120      60  0.033333\n",
       "6   7   F     140      70  0.028571"
      ]
     },
     "execution_count": 37,
     "metadata": {},
     "output_type": "execute_result"
    }
   ],
   "source": [
    "df['BMI'] = df['weight'] / df['height']**2\n",
    "\n",
    "df"
   ]
  },
  {
   "cell_type": "markdown",
   "metadata": {},
   "source": [
    "## 6. Save sheet as a new CSV file `hw_dataB.csv`"
   ]
  },
  {
   "cell_type": "code",
   "execution_count": 38,
   "metadata": {},
   "outputs": [],
   "source": [
    "df.to_csv('hw_dataB.csv')"
   ]
  },
  {
   "cell_type": "markdown",
   "metadata": {},
   "source": [
    "## Run the following (Mac)"
   ]
  },
  {
   "cell_type": "code",
   "execution_count": 39,
   "metadata": {},
   "outputs": [
    {
     "name": "stderr",
     "output_type": "stream",
     "text": [
      "'cat' is not recognized as an internal or external command,\n",
      "operable program or batch file.\n"
     ]
    }
   ],
   "source": [
    "!cat hw_dataB.csv"
   ]
  },
  {
   "cell_type": "markdown",
   "metadata": {},
   "source": [
    "## Run the following (Windows) "
   ]
  },
  {
   "cell_type": "code",
   "execution_count": 40,
   "metadata": {},
   "outputs": [
    {
     "name": "stdout",
     "output_type": "stream",
     "text": [
      ",id,sex,weight,height,BMI\n",
      "0,1,M,190,77,0.03204587620172036\n",
      "1,2,F,120,70,0.024489795918367346\n",
      "2,3,F,110,68,0.02378892733564014\n",
      "3,4,M,150,72,0.028935185185185185\n",
      "4,5,O,120,66,0.027548209366391185\n",
      "5,6,M,120,60,0.03333333333333333\n",
      "6,7,F,140,70,0.02857142857142857\n"
     ]
    }
   ],
   "source": [
    "!type hw_dataB.csv"
   ]
  },
  {
   "cell_type": "code",
   "execution_count": null,
   "metadata": {},
   "outputs": [],
   "source": []
  }
 ],
 "metadata": {
  "kernelspec": {
   "display_name": "Python 3 (ipykernel)",
   "language": "python",
   "name": "python3"
  },
  "language_info": {
   "codemirror_mode": {
    "name": "ipython",
    "version": 3
   },
   "file_extension": ".py",
   "mimetype": "text/x-python",
   "name": "python",
   "nbconvert_exporter": "python",
   "pygments_lexer": "ipython3",
   "version": "3.10.9"
  }
 },
 "nbformat": 4,
 "nbformat_minor": 1
}
